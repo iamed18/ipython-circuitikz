{
 "metadata": {
  "name": ""
 },
 "nbformat": 3,
 "nbformat_minor": 0,
 "worksheets": [
  {
   "cells": [
    {
     "cell_type": "heading",
     "level": 1,
     "metadata": {},
     "source": [
      "IPython extension for drawing circuit diagrams with LaTeX/Circuitikz"
     ]
    },
    {
     "cell_type": "markdown",
     "metadata": {},
     "source": [
      "Robert Johansson\n",
      "\n",
      "https://github.com/jrjohansson/ipython-circuitikz"
     ]
    },
    {
     "cell_type": "heading",
     "level": 2,
     "metadata": {},
     "source": [
      "Installation"
     ]
    },
    {
     "cell_type": "code",
     "collapsed": false,
     "input": [
      "%install_ext http://raw.github.com/jrjohansson/ipython-circuitikz/master/circuitikz.py"
     ],
     "language": "python",
     "metadata": {},
     "outputs": [
      {
       "output_type": "stream",
       "stream": "stdout",
       "text": [
        "Installed circuitikz.py. To use it, type:\n",
        "  %load_ext circuitikz\n"
       ]
      }
     ],
     "prompt_number": 1
    },
    {
     "cell_type": "heading",
     "level": 2,
     "metadata": {},
     "source": [
      "Load the extension"
     ]
    },
    {
     "cell_type": "code",
     "collapsed": false,
     "input": [
      "%reload_ext circuitikz"
     ],
     "language": "python",
     "metadata": {},
     "outputs": [],
     "prompt_number": 2
    },
    {
     "cell_type": "heading",
     "level": 2,
     "metadata": {},
     "source": [
      "Example: SQUID"
     ]
    },
    {
     "cell_type": "code",
     "collapsed": false,
     "input": [
      "%%circuitikz filename=squid paperheight=3in paperwidth=3in dpi=150\n",
      "\n",
      "\\begin{circuitikz}[scale=1]\n",
      "\\draw ( 0, 0) [short, *-] node[anchor=south] {$\\Phi_J$} to (0, -1);\n",
      "\n",
      "% right\n",
      "\\draw ( 0, -1) to (2, -1) to node[anchor=west] {$\\Phi_{J}^2$} (2, -2) to (3, -2)\n",
      "               to [barrier, l=$E_J^2$] (3, -4) to (2, -4)to (2, -5) to (0, -5) node[ground] {};\n",
      "\\draw ( 2, -2) to (1, -2) to [capacitor, l=$C_J^2$] (1, -4) to (1, -4) to (2, -4);\n",
      "\n",
      "% left\n",
      "\\draw ( 0, -1) to (-2, -1) to node[anchor=west] {$\\Phi_{J}^1$} (-2, -2) to (-3, -2)\n",
      "               to [capacitor, l=$C_J^1$] (-3, -4) to (-2, -4)  to (-2, -5) to (0, -5); \n",
      "\\draw (-2, -2) to (-1, -2) to [barrier, l=$E_J^1$] (-1, -4) to (-1, -4) to (-2, -4);\n",
      "\\end{circuitikz}"
     ],
     "language": "python",
     "metadata": {},
     "outputs": [
      {
       "metadata": {},
       "output_type": "pyout",
       "png": "[encoded data removed]",
       "prompt_number": 3,
       "text": [
        "<IPython.core.display.Image at 0x7ffd7ad90790>"
       ]
      }
     ],
     "prompt_number": 3
    },
    {
     "cell_type": "heading",
     "level": 2,
     "metadata": {},
     "source": [
      "Example: Transmission line"
     ]
    },
    {
     "cell_type": "code",
     "collapsed": false,
     "input": [
      "%%circuitikz filename=tm paperheight=2.0in paperwidth=6in dpi=150\n",
      "\n",
      "\\begin{circuitikz}[scale=1.25]\n",
      "\n",
      "\\draw (-1,0) node[anchor=east] {} to [short, *-*] (1,0);\n",
      "\\draw (-1,2) node[anchor=east] {} to [inductor, *-*,  l=$\\Delta x L$] (1,2);\n",
      "\\draw (-1,0) to [open, l=$\\cdots$] (-1,2);    \n",
      "\\draw (3, 0) to (1, 0) to [capacitor, l=$\\Delta x C$, *-*] (1, 2) to [inductor, *-*, l=$\\Delta x L$] (3, 2);\n",
      "\\draw (5, 0) to (3, 0) to [capacitor, l=$\\Delta x C$, *-*] (3, 2) to [inductor, *-*, l=$\\Delta x L$] (5, 2);\n",
      "\\draw (7, 0) to (5, 0) to [capacitor, l=$\\Delta x C$, *-*] (5, 2) to [inductor, *-*, l=$\\Delta x L$] (7, 2);\n",
      "\\draw (9, 0) to (7, 0) to [capacitor, l=$\\Delta x C$, *-*] (7, 2) to [inductor, *-*, l=$\\Delta x L$] (9, 2);\n",
      "\\draw (9,0) node[anchor=east] {} to [short, *-*] (9,0);\n",
      "\\draw (10,0) to [open, l=$\\cdots$] (10,2);\n",
      "\n",
      "\\end{circuitikz}"
     ],
     "language": "python",
     "metadata": {},
     "outputs": [
      {
       "metadata": {},
       "output_type": "pyout",
       "png": "[encoded data removed]",
       "prompt_number": 4,
       "text": [
        "<IPython.core.display.Image at 0x7ffd8847af90>"
       ]
      }
     ],
     "prompt_number": 4
    },
    {
     "cell_type": "code",
     "collapsed": false,
     "input": [],
     "language": "python",
     "metadata": {},
     "outputs": []
    }
   ],
   "metadata": {}
  }
 ]
}